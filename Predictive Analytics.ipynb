{
 "cells": [
  {
   "cell_type": "markdown",
   "id": "a2b05526",
   "metadata": {},
   "source": [
    "# Importing Libraries"
   ]
  },
  {
   "cell_type": "code",
   "execution_count": 2,
   "id": "64a9390a",
   "metadata": {},
   "outputs": [],
   "source": [
    "import pandas as pd\n",
    "import numpy as np\n",
    "from sklearn.model_selection import train_test_split, GridSearchCV\n",
    "from sklearn.impute import SimpleImputer\n",
    "import matplotlib.pyplot as plt\n",
    "import seaborn as sns\n",
    "\n",
    "from sklearn.preprocessing import OneHotEncoder\n",
    "from sklearn.preprocessing import LabelEncoder\n",
    "from sklearn.preprocessing import MinMaxScaler\n",
    "from sklearn.preprocessing import StandardScaler\n",
    "\n",
    "from sklearn.linear_model import LinearRegression\n",
    "from sklearn.preprocessing import PolynomialFeatures\n",
    "\n",
    "from sklearn.svm import SVR\n",
    "from sklearn import metrics\n",
    "\n",
    "from sklearn.tree import DecisionTreeRegressor\n",
    "from sklearn.ensemble import RandomForestRegressor"
   ]
  },
  {
   "cell_type": "markdown",
   "id": "89d6ded6",
   "metadata": {},
   "source": [
    "# Importing the dataset and printing the values in dataset"
   ]
  },
  {
   "cell_type": "code",
   "execution_count": 4,
   "id": "1838af5c",
   "metadata": {},
   "outputs": [],
   "source": [
    "#import file\n",
    "data= pd.read_csv(r\"C:\\Users\\pbhal\\OneDrive\\Desktop\\Ex_Files_Python_Predictive_Analytics\\Ex_Files_Python_Predictive_Analytics\\Exercise Files\\Datasets\\insurance.csv\")"
   ]
  },
  {
   "cell_type": "code",
   "execution_count": 5,
   "id": "3cc15606",
   "metadata": {},
   "outputs": [
    {
     "name": "stdout",
     "output_type": "stream",
     "text": [
      "   age     sex     bmi  children smoker     region      charges\n",
      "0   19  female  27.900         0    yes  southwest  16884.92400\n",
      "1   18    male  33.770         1     no  southeast   1725.55230\n",
      "2   28    male  33.000         3     no  southeast   4449.46200\n",
      "3   33    male  22.705         0     no  northwest  21984.47061\n",
      "4   32    male  28.880         0     no  northwest   3866.85520\n",
      "5   31  female  25.740         0     no  southeast   3756.62160\n",
      "6   46  female  33.440         1     no  southeast   8240.58960\n",
      "7   37  female  27.740         3     no  northwest   7281.50560\n",
      "8   37    male  29.830         2     no  northeast   6406.41070\n",
      "9   60  female  25.840         0     no  northwest  28923.13692\n"
     ]
    }
   ],
   "source": [
    "print(data.head(10))"
   ]
  },
  {
   "cell_type": "markdown",
   "id": "ada64827",
   "metadata": {},
   "source": [
    "# Checking the number of missing values and the column that has missing values"
   ]
  },
  {
   "cell_type": "code",
   "execution_count": 6,
   "id": "b9ed2552",
   "metadata": {},
   "outputs": [
    {
     "name": "stdout",
     "output_type": "stream",
     "text": [
      "bmi    5\n",
      "dtype: int64\n"
     ]
    }
   ],
   "source": [
    "#Check the number of missing values \n",
    "count_nan= data.isnull().sum()\n",
    "print(count_nan[count_nan>0])"
   ]
  },
  {
   "cell_type": "markdown",
   "id": "57b0609c",
   "metadata": {},
   "source": [
    "# Treating the missing values by replacing them with mean value"
   ]
  },
  {
   "cell_type": "code",
   "execution_count": 7,
   "id": "d29a87fc",
   "metadata": {},
   "outputs": [],
   "source": [
    "#filling the missing values with the mean of the dataset\n",
    "data['bmi'].fillna(data['bmi'].mean(), inplace=True)"
   ]
  },
  {
   "cell_type": "code",
   "execution_count": 8,
   "id": "423f4057",
   "metadata": {},
   "outputs": [
    {
     "name": "stdout",
     "output_type": "stream",
     "text": [
      "Series([], dtype: int64)\n"
     ]
    }
   ],
   "source": [
    "#to check the number of missing values after preprocessing\n",
    "count_nan= data.isnull().sum()\n",
    "print(count_nan[count_nan>0])"
   ]
  },
  {
   "cell_type": "markdown",
   "id": "ab5c3b90",
   "metadata": {},
   "source": [
    "# Converting Categorical data to numerical data using LABEL ENCODING and HOT ENCODING"
   ]
  },
  {
   "cell_type": "code",
   "execution_count": 9,
   "id": "af4b5423",
   "metadata": {},
   "outputs": [
    {
     "name": "stdout",
     "output_type": "stream",
     "text": [
      "sklearn label econding result for variable sex\n",
      "{'female': 0, 'male': 1}\n",
      "  sex\n",
      "0   0\n",
      "1   1\n",
      "2   1\n",
      "3   1\n",
      "4   1\n",
      "5   0\n",
      "6   0\n",
      "7   0\n",
      "8   1\n",
      "9   0\n",
      "sklearn label econding result for variable smoker\n",
      "{'no': 0, 'yes': 1}\n",
      "  smoker\n",
      "0      1\n",
      "1      0\n",
      "2      0\n",
      "3      0\n",
      "4      0\n",
      "5      0\n",
      "6      0\n",
      "7      0\n",
      "8      0\n",
      "9      0\n",
      "sklearn one hot econding result for variable region\n",
      "   Northeasst  Northwest  Southeast  SouthWest\n",
      "0         0.0        0.0        0.0        1.0\n",
      "1         0.0        0.0        1.0        0.0\n",
      "2         0.0        0.0        1.0        0.0\n",
      "3         0.0        1.0        0.0        0.0\n",
      "4         0.0        1.0        0.0        0.0\n",
      "5         0.0        0.0        1.0        0.0\n",
      "6         0.0        0.0        1.0        0.0\n",
      "7         0.0        1.0        0.0        0.0\n",
      "8         1.0        0.0        0.0        0.0\n",
      "9         0.0        1.0        0.0        0.0\n"
     ]
    }
   ],
   "source": [
    "#converting categorical values to numerical data using label enconding and one hot encoding\n",
    "\n",
    "sex= data.iloc[:,1:2].values\n",
    "smoker= data.iloc[:,4:5].values\n",
    "\n",
    "le=LabelEncoder()\n",
    "sex[:,0]= le.fit_transform(sex[:,0])\n",
    "sex=pd.DataFrame(sex)\n",
    "sex.columns = ['sex']\n",
    "le_sex_mapping = dict(zip(le.classes_, le.transform(le.classes_)))\n",
    "print(\"sklearn label econding result for variable sex\")\n",
    "print( le_sex_mapping)\n",
    "print(sex[:10])\n",
    "\n",
    "smoker[:,0]= le.fit_transform(smoker[:,0])\n",
    "smoker = pd.DataFrame(smoker)\n",
    "smoker.columns = ['smoker']\n",
    "le_smoker_mapping = dict(zip(le.classes_, le.transform(le.classes_)))\n",
    "print(\"sklearn label econding result for variable smoker\")\n",
    "print( le_smoker_mapping)\n",
    "print(smoker[:10])\n",
    "\n",
    "#one hot encondeing\n",
    "region= data.iloc[:,5:6].values\n",
    "ohe= OneHotEncoder()\n",
    "region = ohe.fit_transform(region).toarray()\n",
    "region = pd.DataFrame(region)\n",
    "region.columns = ['Northeasst', 'Northwest', 'Southeast', 'SouthWest']\n",
    "print(\"sklearn one hot econding result for variable region\")\n",
    "print(region[:10])\n",
    "\n",
    "                         "
   ]
  },
  {
   "cell_type": "markdown",
   "id": "606593c9",
   "metadata": {},
   "source": [
    "# Creating the Training and Test Data"
   ]
  },
  {
   "cell_type": "code",
   "execution_count": 10,
   "id": "c7e41755",
   "metadata": {},
   "outputs": [],
   "source": [
    "#creating training and test data\n",
    "\n",
    "x_num = data[['age', 'bmi', 'children']]\n",
    "x_final = pd.concat([x_num, sex, smoker, region], axis= 1)\n",
    "y_final = data[['charges']].copy()\n",
    "\n",
    "x_train , x_test, y_train, y_test = train_test_split(x_final, y_final, test_size= 0.33, random_state= 0)"
   ]
  },
  {
   "cell_type": "markdown",
   "id": "65a63fbf",
   "metadata": {},
   "source": [
    "# Feature Scaling using normalization"
   ]
  },
  {
   "cell_type": "code",
   "execution_count": 11,
   "id": "1f588cc8",
   "metadata": {},
   "outputs": [],
   "source": [
    "#feature scalilng \n",
    "#using normalization\n",
    "n_scaler = MinMaxScaler()\n",
    "x_train = n_scaler.fit_transform(x_train.astype(np.float64))\n",
    "x_test = n_scaler.transform(x_test.astype(np.float64))"
   ]
  },
  {
   "cell_type": "code",
   "execution_count": 12,
   "id": "72237276",
   "metadata": {},
   "outputs": [
    {
     "data": {
      "text/plain": [
       "array([[0.15217391, 0.49838579, 0.        , ..., 1.        , 0.        ,\n",
       "        0.        ],\n",
       "       [0.02173913, 0.50417003, 0.4       , ..., 0.        , 0.        ,\n",
       "        1.        ],\n",
       "       [0.2173913 , 0.45843422, 0.6       , ..., 0.        , 1.        ,\n",
       "        0.        ],\n",
       "       ...,\n",
       "       [0.47826087, 0.24535916, 0.        , ..., 0.        , 1.        ,\n",
       "        0.        ],\n",
       "       [0.02173913, 0.52649987, 0.        , ..., 1.        , 0.        ,\n",
       "        0.        ],\n",
       "       [0.32608696, 0.06833468, 0.2       , ..., 0.        , 0.        ,\n",
       "        1.        ]])"
      ]
     },
     "execution_count": 12,
     "metadata": {},
     "output_type": "execute_result"
    }
   ],
   "source": [
    "x_train"
   ]
  },
  {
   "cell_type": "code",
   "execution_count": 13,
   "id": "f0ede104",
   "metadata": {},
   "outputs": [
    {
     "data": {
      "text/plain": [
       "array([[0.73913043, 0.38310465, 0.2       , ..., 0.        , 0.        ,\n",
       "        1.        ],\n",
       "       [0.63043478, 0.36077482, 0.2       , ..., 0.        , 1.        ,\n",
       "        0.        ],\n",
       "       [0.65217391, 0.66195857, 0.4       , ..., 1.        , 0.        ,\n",
       "        0.        ],\n",
       "       ...,\n",
       "       [0.47826087, 0.45238095, 0.2       , ..., 0.        , 0.        ,\n",
       "        0.        ],\n",
       "       [0.15217391, 0.29163304, 0.6       , ..., 0.        , 0.        ,\n",
       "        1.        ],\n",
       "       [0.04347826, 0.29270917, 0.2       , ..., 0.        , 1.        ,\n",
       "        0.        ]])"
      ]
     },
     "execution_count": 13,
     "metadata": {},
     "output_type": "execute_result"
    }
   ],
   "source": [
    "x_test"
   ]
  },
  {
   "cell_type": "markdown",
   "id": "107cce0b",
   "metadata": {},
   "source": [
    "# Feature scaling using standard scaler"
   ]
  },
  {
   "cell_type": "code",
   "execution_count": 14,
   "id": "73462614",
   "metadata": {},
   "outputs": [],
   "source": [
    "s_scaler = StandardScaler()\n",
    "x_train = s_scaler.fit_transform(x_train.astype(np.float64))\n",
    "x_test = s_scaler.transform(x_test.astype(np.float64))"
   ]
  },
  {
   "cell_type": "code",
   "execution_count": 15,
   "id": "5a7eb949",
   "metadata": {},
   "outputs": [
    {
     "data": {
      "text/plain": [
       "array([[-1.03606235,  0.61468414, -0.91008919, ...,  1.77430216,\n",
       "        -0.61002347, -0.58766091],\n",
       "       [-1.46484381,  0.64957783,  0.7540739 , ..., -0.56360186,\n",
       "        -0.61002347,  1.70166159],\n",
       "       [-0.82167162,  0.37367425,  1.58615545, ..., -0.56360186,\n",
       "         1.63928118, -0.58766091],\n",
       "       ...,\n",
       "       [ 0.03589131, -0.91171181, -0.91008919, ..., -0.56360186,\n",
       "         1.63928118, -0.58766091],\n",
       "       [-1.46484381,  0.78428369, -0.91008919, ...,  1.77430216,\n",
       "        -0.61002347, -0.58766091],\n",
       "       [-0.46435373, -1.97962095, -0.07800765, ..., -0.56360186,\n",
       "        -0.61002347,  1.70166159]])"
      ]
     },
     "execution_count": 15,
     "metadata": {},
     "output_type": "execute_result"
    }
   ],
   "source": [
    "x_train"
   ]
  },
  {
   "cell_type": "code",
   "execution_count": 16,
   "id": "19f43a5f",
   "metadata": {},
   "outputs": [
    {
     "data": {
      "text/plain": [
       "array([[ 0.89345423, -0.08075516, -0.07800765, ..., -0.56360186,\n",
       "        -0.61002347,  1.70166159],\n",
       "       [ 0.53613634, -0.21546103, -0.07800765, ..., -0.56360186,\n",
       "         1.63928118, -0.58766091],\n",
       "       [ 0.60759992,  1.60144516,  0.7540739 , ...,  1.77430216,\n",
       "        -0.61002347, -0.58766091],\n",
       "       ...,\n",
       "       [ 0.03589131,  0.3371576 , -0.07800765, ..., -0.56360186,\n",
       "        -0.61002347, -0.58766091],\n",
       "       [-1.03606235, -0.63256231,  1.58615545, ..., -0.56360186,\n",
       "        -0.61002347,  1.70166159],\n",
       "       [-1.39338023, -0.62607047, -0.07800765, ..., -0.56360186,\n",
       "         1.63928118, -0.58766091]])"
      ]
     },
     "execution_count": 16,
     "metadata": {},
     "output_type": "execute_result"
    }
   ],
   "source": [
    "x_test"
   ]
  },
  {
   "cell_type": "markdown",
   "id": "f3995c44",
   "metadata": {},
   "source": [
    "# Performing Linear Regression"
   ]
  },
  {
   "cell_type": "code",
   "execution_count": 17,
   "id": "48015bd7",
   "metadata": {},
   "outputs": [
    {
     "data": {
      "text/plain": [
       "0.7804031221891603"
      ]
     },
     "execution_count": 17,
     "metadata": {},
     "output_type": "execute_result"
    }
   ],
   "source": [
    "#Linear regression\n",
    "lr = LinearRegression().fit(x_train, y_train)\n",
    "y_train_pred = lr.predict(x_train)\n",
    "y_test_pred = lr.predict(x_test)\n",
    "\n",
    "lr.score(x_train, y_train)\n",
    "lr.score(x_test, y_test)"
   ]
  },
  {
   "cell_type": "code",
   "execution_count": 18,
   "id": "375bd321",
   "metadata": {},
   "outputs": [
    {
     "data": {
      "text/plain": [
       "0.7855951871694039"
      ]
     },
     "execution_count": 18,
     "metadata": {},
     "output_type": "execute_result"
    }
   ],
   "source": [
    "poly = PolynomialFeatures(degree= 3)\n",
    "x_poly = poly.fit_transform(x_final)\n",
    "\n",
    "x_train , x_test, y_train, y_test = train_test_split(x_final, y_final, test_size= 0.33, random_state= 0)\n",
    "\n",
    "s_scaler = StandardScaler()\n",
    "x_train = s_scaler.fit_transform(x_train.astype(np.float64))\n",
    "x_test = s_scaler.transform(x_test.astype(np.float64))\n",
    "\n",
    "poly_lr= LinearRegression().fit(x_train, y_train)\n",
    "y_train_pred = poly_lr. predict(x_train)\n",
    "y_test_pred = poly_lr.predict(x_test)\n",
    "\n",
    "poly_lr.score(x_train, y_train)\n",
    "poly_lr.score(x_test, y_test)\n"
   ]
  },
  {
   "cell_type": "markdown",
   "id": "f36469c7",
   "metadata": {},
   "source": [
    "# Performing Support Vector model"
   ]
  },
  {
   "cell_type": "code",
   "execution_count": 19,
   "id": "f33e6731",
   "metadata": {},
   "outputs": [
    {
     "name": "stdout",
     "output_type": "stream",
     "text": [
      "svr train score 0.568, svr test score: 0.566\n"
     ]
    }
   ],
   "source": [
    "#support vector model\n",
    "\n",
    "svr = SVR(kernel= 'poly', C= 300)\n",
    "\n",
    "x_train , x_test, y_train, y_test = train_test_split(x_final, y_final, test_size= 0.33, random_state= 0)\n",
    "\n",
    "s_scaler = StandardScaler()\n",
    "x_train = s_scaler.fit_transform(x_train.astype(np.float64))\n",
    "x_test = s_scaler.transform(x_test.astype(np.float64))\n",
    "\n",
    "svr = svr.fit(x_train, y_train.values.ravel())\n",
    "y_train_pred = svr.predict(x_train)\n",
    "y_test_pred = svr.predict(x_test)\n",
    "\n",
    "print('svr train score %.3f, svr test score: %.3f' % (\n",
    "svr.score(x_train,y_train),\n",
    "svr.score(x_test, y_test)))\n",
    "\n",
    "\n"
   ]
  },
  {
   "cell_type": "markdown",
   "id": "f8922e25",
   "metadata": {},
   "source": [
    "# Creating a decision tree model"
   ]
  },
  {
   "cell_type": "code",
   "execution_count": 20,
   "id": "764661d1",
   "metadata": {},
   "outputs": [
    {
     "name": "stdout",
     "output_type": "stream",
     "text": [
      "dt train score 0.999, dt test score: 0.717\n"
     ]
    }
   ],
   "source": [
    "#Decision tree alogorithm\n",
    "dt = DecisionTreeRegressor(random_state= 0)\n",
    "\n",
    "x_train , x_test, y_train, y_test = train_test_split(x_final, y_final, test_size= 0.33, random_state= 0)\n",
    "\n",
    "s_scaler = StandardScaler()\n",
    "x_train = s_scaler.fit_transform(x_train.astype(np.float64))\n",
    "x_test = s_scaler.transform(x_test.astype(np.float64))\n",
    "\n",
    "#fitting the model\n",
    "dt = dt.fit(x_train, y_train.values.ravel())\n",
    "y_train_pred = dt.predict(x_train)\n",
    "y_train_pred = dt.predict(x_test)\n",
    "\n",
    "#print score\n",
    "print('dt train score %.3f, dt test score: %.3f' % (\n",
    "dt.score(x_train,y_train),\n",
    "dt.score(x_test, y_test)))\n"
   ]
  },
  {
   "cell_type": "markdown",
   "id": "87100bbd",
   "metadata": {},
   "source": [
    "# Performing Random Forest Regression Model"
   ]
  },
  {
   "cell_type": "code",
   "execution_count": 19,
   "id": "223c8c56",
   "metadata": {},
   "outputs": [
    {
     "name": "stdout",
     "output_type": "stream",
     "text": [
      "forest regression train score 0.999,fores regression test score: 0.717\n"
     ]
    }
   ],
   "source": [
    "#Random forest regression \n",
    "forest = RandomForestRegressor(n_estimators= 100,\n",
    "                              criterion= 'mse',\n",
    "                              random_state= 1,\n",
    "                              n_jobs= -1)\n",
    "\n",
    "x_train , x_test, y_train, y_test = train_test_split(x_final, y_final, test_size= 0.33, random_state= 0)\n",
    "\n",
    "s_scaler = StandardScaler()\n",
    "x_train = s_scaler.fit_transform(x_train.astype(np.float64))\n",
    "x_test = s_scaler.transform(x_test.astype(np.float64))\n",
    "\n",
    "#fitting the model\n",
    "forest = forest.fit(x_train, y_train.values.ravel())\n",
    "y_train_pred = dt.predict(x_train)\n",
    "y_train_pred = dt.predict(x_test)\n",
    "\n",
    "#print score\n",
    "print('forest regression train score %.3f,fores regression test score: %.3f' % (\n",
    "dt.score(x_train,y_train),\n",
    "dt.score(x_test, y_test)))\n"
   ]
  },
  {
   "cell_type": "markdown",
   "id": "20499887",
   "metadata": {},
   "source": [
    "# Hyper Parameterization"
   ]
  },
  {
   "cell_type": "code",
   "execution_count": 21,
   "id": "c4e83e13",
   "metadata": {},
   "outputs": [
    {
     "name": "stdout",
     "output_type": "stream",
     "text": [
      "Fitting 5 folds for each of 24 candidates, totalling 120 fits\n",
      "[CV 1/5] END .C=600, degree=2, epsilon=0.0001, kernel=linear; total time=   0.0s\n",
      "[CV 2/5] END .C=600, degree=2, epsilon=0.0001, kernel=linear; total time=   0.0s\n",
      "[CV 3/5] END .C=600, degree=2, epsilon=0.0001, kernel=linear; total time=   0.0s\n",
      "[CV 4/5] END .C=600, degree=2, epsilon=0.0001, kernel=linear; total time=   0.0s\n",
      "[CV 5/5] END .C=600, degree=2, epsilon=0.0001, kernel=linear; total time=   0.0s\n",
      "[CV 1/5] END ...C=600, degree=2, epsilon=0.0001, kernel=poly; total time=   0.0s\n",
      "[CV 2/5] END ...C=600, degree=2, epsilon=0.0001, kernel=poly; total time=   0.0s\n",
      "[CV 3/5] END ...C=600, degree=2, epsilon=0.0001, kernel=poly; total time=   0.0s\n",
      "[CV 4/5] END ...C=600, degree=2, epsilon=0.0001, kernel=poly; total time=   0.0s\n",
      "[CV 5/5] END ...C=600, degree=2, epsilon=0.0001, kernel=poly; total time=   0.0s\n",
      "[CV 1/5] END ..C=600, degree=2, epsilon=1e-05, kernel=linear; total time=   0.0s\n",
      "[CV 2/5] END ..C=600, degree=2, epsilon=1e-05, kernel=linear; total time=   0.0s\n",
      "[CV 3/5] END ..C=600, degree=2, epsilon=1e-05, kernel=linear; total time=   0.0s\n",
      "[CV 4/5] END ..C=600, degree=2, epsilon=1e-05, kernel=linear; total time=   0.0s\n",
      "[CV 5/5] END ..C=600, degree=2, epsilon=1e-05, kernel=linear; total time=   0.0s\n",
      "[CV 1/5] END ....C=600, degree=2, epsilon=1e-05, kernel=poly; total time=   0.0s\n",
      "[CV 2/5] END ....C=600, degree=2, epsilon=1e-05, kernel=poly; total time=   0.0s\n",
      "[CV 3/5] END ....C=600, degree=2, epsilon=1e-05, kernel=poly; total time=   0.0s\n",
      "[CV 4/5] END ....C=600, degree=2, epsilon=1e-05, kernel=poly; total time=   0.0s\n",
      "[CV 5/5] END ....C=600, degree=2, epsilon=1e-05, kernel=poly; total time=   0.0s\n",
      "[CV 1/5] END ..C=600, degree=2, epsilon=1e-06, kernel=linear; total time=   0.0s\n",
      "[CV 2/5] END ..C=600, degree=2, epsilon=1e-06, kernel=linear; total time=   0.0s\n",
      "[CV 3/5] END ..C=600, degree=2, epsilon=1e-06, kernel=linear; total time=   0.0s\n",
      "[CV 4/5] END ..C=600, degree=2, epsilon=1e-06, kernel=linear; total time=   0.0s\n",
      "[CV 5/5] END ..C=600, degree=2, epsilon=1e-06, kernel=linear; total time=   0.0s\n",
      "[CV 1/5] END ....C=600, degree=2, epsilon=1e-06, kernel=poly; total time=   0.0s\n",
      "[CV 2/5] END ....C=600, degree=2, epsilon=1e-06, kernel=poly; total time=   0.0s\n",
      "[CV 3/5] END ....C=600, degree=2, epsilon=1e-06, kernel=poly; total time=   0.0s\n",
      "[CV 4/5] END ....C=600, degree=2, epsilon=1e-06, kernel=poly; total time=   0.0s\n",
      "[CV 5/5] END ....C=600, degree=2, epsilon=1e-06, kernel=poly; total time=   0.0s\n",
      "[CV 1/5] END .C=700, degree=2, epsilon=0.0001, kernel=linear; total time=   0.0s\n",
      "[CV 2/5] END .C=700, degree=2, epsilon=0.0001, kernel=linear; total time=   0.0s\n",
      "[CV 3/5] END .C=700, degree=2, epsilon=0.0001, kernel=linear; total time=   0.0s\n",
      "[CV 4/5] END .C=700, degree=2, epsilon=0.0001, kernel=linear; total time=   0.0s\n",
      "[CV 5/5] END .C=700, degree=2, epsilon=0.0001, kernel=linear; total time=   0.0s\n",
      "[CV 1/5] END ...C=700, degree=2, epsilon=0.0001, kernel=poly; total time=   0.0s\n",
      "[CV 2/5] END ...C=700, degree=2, epsilon=0.0001, kernel=poly; total time=   0.0s\n",
      "[CV 3/5] END ...C=700, degree=2, epsilon=0.0001, kernel=poly; total time=   0.0s\n",
      "[CV 4/5] END ...C=700, degree=2, epsilon=0.0001, kernel=poly; total time=   0.0s\n",
      "[CV 5/5] END ...C=700, degree=2, epsilon=0.0001, kernel=poly; total time=   0.0s\n",
      "[CV 1/5] END ..C=700, degree=2, epsilon=1e-05, kernel=linear; total time=   0.0s\n",
      "[CV 2/5] END ..C=700, degree=2, epsilon=1e-05, kernel=linear; total time=   0.0s\n",
      "[CV 3/5] END ..C=700, degree=2, epsilon=1e-05, kernel=linear; total time=   0.0s\n",
      "[CV 4/5] END ..C=700, degree=2, epsilon=1e-05, kernel=linear; total time=   0.0s\n",
      "[CV 5/5] END ..C=700, degree=2, epsilon=1e-05, kernel=linear; total time=   0.0s\n",
      "[CV 1/5] END ....C=700, degree=2, epsilon=1e-05, kernel=poly; total time=   0.0s\n",
      "[CV 2/5] END ....C=700, degree=2, epsilon=1e-05, kernel=poly; total time=   0.0s\n",
      "[CV 3/5] END ....C=700, degree=2, epsilon=1e-05, kernel=poly; total time=   0.0s\n",
      "[CV 4/5] END ....C=700, degree=2, epsilon=1e-05, kernel=poly; total time=   0.0s\n",
      "[CV 5/5] END ....C=700, degree=2, epsilon=1e-05, kernel=poly; total time=   0.0s\n",
      "[CV 1/5] END ..C=700, degree=2, epsilon=1e-06, kernel=linear; total time=   0.0s\n",
      "[CV 2/5] END ..C=700, degree=2, epsilon=1e-06, kernel=linear; total time=   0.0s\n",
      "[CV 3/5] END ..C=700, degree=2, epsilon=1e-06, kernel=linear; total time=   0.0s\n",
      "[CV 4/5] END ..C=700, degree=2, epsilon=1e-06, kernel=linear; total time=   0.0s\n",
      "[CV 5/5] END ..C=700, degree=2, epsilon=1e-06, kernel=linear; total time=   0.0s\n",
      "[CV 1/5] END ....C=700, degree=2, epsilon=1e-06, kernel=poly; total time=   0.0s\n",
      "[CV 2/5] END ....C=700, degree=2, epsilon=1e-06, kernel=poly; total time=   0.0s\n",
      "[CV 3/5] END ....C=700, degree=2, epsilon=1e-06, kernel=poly; total time=   0.0s\n",
      "[CV 4/5] END ....C=700, degree=2, epsilon=1e-06, kernel=poly; total time=   0.0s\n",
      "[CV 5/5] END ....C=700, degree=2, epsilon=1e-06, kernel=poly; total time=   0.0s\n",
      "[CV 1/5] END .C=800, degree=2, epsilon=0.0001, kernel=linear; total time=   0.0s\n",
      "[CV 2/5] END .C=800, degree=2, epsilon=0.0001, kernel=linear; total time=   0.0s\n",
      "[CV 3/5] END .C=800, degree=2, epsilon=0.0001, kernel=linear; total time=   0.0s\n",
      "[CV 4/5] END .C=800, degree=2, epsilon=0.0001, kernel=linear; total time=   0.0s\n",
      "[CV 5/5] END .C=800, degree=2, epsilon=0.0001, kernel=linear; total time=   0.0s\n",
      "[CV 1/5] END ...C=800, degree=2, epsilon=0.0001, kernel=poly; total time=   0.0s\n",
      "[CV 2/5] END ...C=800, degree=2, epsilon=0.0001, kernel=poly; total time=   0.0s\n",
      "[CV 3/5] END ...C=800, degree=2, epsilon=0.0001, kernel=poly; total time=   0.0s\n",
      "[CV 4/5] END ...C=800, degree=2, epsilon=0.0001, kernel=poly; total time=   0.0s\n",
      "[CV 5/5] END ...C=800, degree=2, epsilon=0.0001, kernel=poly; total time=   0.0s\n",
      "[CV 1/5] END ..C=800, degree=2, epsilon=1e-05, kernel=linear; total time=   0.1s\n",
      "[CV 2/5] END ..C=800, degree=2, epsilon=1e-05, kernel=linear; total time=   0.0s\n",
      "[CV 3/5] END ..C=800, degree=2, epsilon=1e-05, kernel=linear; total time=   0.0s\n",
      "[CV 4/5] END ..C=800, degree=2, epsilon=1e-05, kernel=linear; total time=   0.0s\n",
      "[CV 5/5] END ..C=800, degree=2, epsilon=1e-05, kernel=linear; total time=   0.0s\n",
      "[CV 1/5] END ....C=800, degree=2, epsilon=1e-05, kernel=poly; total time=   0.0s\n",
      "[CV 2/5] END ....C=800, degree=2, epsilon=1e-05, kernel=poly; total time=   0.0s\n",
      "[CV 3/5] END ....C=800, degree=2, epsilon=1e-05, kernel=poly; total time=   0.0s\n",
      "[CV 4/5] END ....C=800, degree=2, epsilon=1e-05, kernel=poly; total time=   0.0s\n",
      "[CV 5/5] END ....C=800, degree=2, epsilon=1e-05, kernel=poly; total time=   0.0s\n",
      "[CV 1/5] END ..C=800, degree=2, epsilon=1e-06, kernel=linear; total time=   0.0s\n",
      "[CV 2/5] END ..C=800, degree=2, epsilon=1e-06, kernel=linear; total time=   0.0s\n",
      "[CV 3/5] END ..C=800, degree=2, epsilon=1e-06, kernel=linear; total time=   0.0s\n",
      "[CV 4/5] END ..C=800, degree=2, epsilon=1e-06, kernel=linear; total time=   0.0s\n",
      "[CV 5/5] END ..C=800, degree=2, epsilon=1e-06, kernel=linear; total time=   0.0s\n",
      "[CV 1/5] END ....C=800, degree=2, epsilon=1e-06, kernel=poly; total time=   0.0s\n",
      "[CV 2/5] END ....C=800, degree=2, epsilon=1e-06, kernel=poly; total time=   0.0s\n",
      "[CV 3/5] END ....C=800, degree=2, epsilon=1e-06, kernel=poly; total time=   0.0s\n",
      "[CV 4/5] END ....C=800, degree=2, epsilon=1e-06, kernel=poly; total time=   0.0s\n",
      "[CV 5/5] END ....C=800, degree=2, epsilon=1e-06, kernel=poly; total time=   0.0s\n",
      "[CV 1/5] END .C=900, degree=2, epsilon=0.0001, kernel=linear; total time=   0.0s\n",
      "[CV 2/5] END .C=900, degree=2, epsilon=0.0001, kernel=linear; total time=   0.0s\n",
      "[CV 3/5] END .C=900, degree=2, epsilon=0.0001, kernel=linear; total time=   0.0s\n",
      "[CV 4/5] END .C=900, degree=2, epsilon=0.0001, kernel=linear; total time=   0.0s\n",
      "[CV 5/5] END .C=900, degree=2, epsilon=0.0001, kernel=linear; total time=   0.1s\n",
      "[CV 1/5] END ...C=900, degree=2, epsilon=0.0001, kernel=poly; total time=   0.0s\n",
      "[CV 2/5] END ...C=900, degree=2, epsilon=0.0001, kernel=poly; total time=   0.0s\n",
      "[CV 3/5] END ...C=900, degree=2, epsilon=0.0001, kernel=poly; total time=   0.0s\n",
      "[CV 4/5] END ...C=900, degree=2, epsilon=0.0001, kernel=poly; total time=   0.0s\n",
      "[CV 5/5] END ...C=900, degree=2, epsilon=0.0001, kernel=poly; total time=   0.0s\n",
      "[CV 1/5] END ..C=900, degree=2, epsilon=1e-05, kernel=linear; total time=   0.1s\n",
      "[CV 2/5] END ..C=900, degree=2, epsilon=1e-05, kernel=linear; total time=   0.0s\n",
      "[CV 3/5] END ..C=900, degree=2, epsilon=1e-05, kernel=linear; total time=   0.0s\n",
      "[CV 4/5] END ..C=900, degree=2, epsilon=1e-05, kernel=linear; total time=   0.0s\n",
      "[CV 5/5] END ..C=900, degree=2, epsilon=1e-05, kernel=linear; total time=   0.0s\n",
      "[CV 1/5] END ....C=900, degree=2, epsilon=1e-05, kernel=poly; total time=   0.0s\n",
      "[CV 2/5] END ....C=900, degree=2, epsilon=1e-05, kernel=poly; total time=   0.0s\n",
      "[CV 3/5] END ....C=900, degree=2, epsilon=1e-05, kernel=poly; total time=   0.0s\n",
      "[CV 4/5] END ....C=900, degree=2, epsilon=1e-05, kernel=poly; total time=   0.0s\n",
      "[CV 5/5] END ....C=900, degree=2, epsilon=1e-05, kernel=poly; total time=   0.0s\n",
      "[CV 1/5] END ..C=900, degree=2, epsilon=1e-06, kernel=linear; total time=   0.1s\n",
      "[CV 2/5] END ..C=900, degree=2, epsilon=1e-06, kernel=linear; total time=   0.0s\n",
      "[CV 3/5] END ..C=900, degree=2, epsilon=1e-06, kernel=linear; total time=   0.0s\n",
      "[CV 4/5] END ..C=900, degree=2, epsilon=1e-06, kernel=linear; total time=   0.0s\n",
      "[CV 5/5] END ..C=900, degree=2, epsilon=1e-06, kernel=linear; total time=   0.0s\n",
      "[CV 1/5] END ....C=900, degree=2, epsilon=1e-06, kernel=poly; total time=   0.0s\n",
      "[CV 2/5] END ....C=900, degree=2, epsilon=1e-06, kernel=poly; total time=   0.0s\n",
      "[CV 3/5] END ....C=900, degree=2, epsilon=1e-06, kernel=poly; total time=   0.0s\n",
      "[CV 4/5] END ....C=900, degree=2, epsilon=1e-06, kernel=poly; total time=   0.0s\n",
      "[CV 5/5] END ....C=900, degree=2, epsilon=1e-06, kernel=poly; total time=   0.0s\n",
      "hyper parameter train score 0.683,hyperparameter regression test score: 0.734\n",
      "\n",
      "*** SVR Best Parameters ***\n",
      "C: 700\n",
      "cache_size: 200\n",
      "coef0: 0.0\n",
      "degree: 2\n",
      "epsilon: 0.0001\n",
      "gamma: scale\n",
      "kernel: linear\n",
      "max_iter: -1\n",
      "shrinking: True\n",
      "tol: 0.001\n",
      "verbose: False\n",
      "\n"
     ]
    }
   ],
   "source": [
    "def print_best_params(gd_model):\n",
    "    param_dict = gd_model.best_estimator_.get_params()\n",
    "    model_str = str(gd_model.estimator).split('(')[0]\n",
    "    print(\"\\n*** {} Best Parameters ***\".format(model_str))\n",
    "    for k in param_dict:\n",
    "        print(\"{}: {}\".format(k, param_dict[k]))\n",
    "    print()\n",
    "    \n",
    "#test train split\n",
    "x_train, x_test, y_train, y_test = train_test_split(x_final, y_final, test_size = 0.33, random_state = 0 )\n",
    "\n",
    "#standard scaler (fit transform on train, fit only on test)\n",
    "sc = StandardScaler()\n",
    "x_train = sc.fit_transform(x_train.astype(np.float64))\n",
    "x_test= sc.transform(x_test.astype(np.float64))\n",
    "###Challenge 1: SVR parameter grid###\n",
    "\n",
    "param_grid_svr = dict(kernel=[ 'linear', 'poly'],\n",
    "                     degree=[2],\n",
    "                     C=[600, 700, 800, 900],\n",
    "                     epsilon=[0.0001, 0.00001, 0.000001])\n",
    "svr = GridSearchCV(SVR(), param_grid=param_grid_svr, cv=5, verbose=3)\n",
    "\n",
    "\n",
    "\n",
    "svr= svr.fit(x_train, y_train.values.ravel())\n",
    "#print score\n",
    "print('hyper parameter train score %.3f,hyperparameter regression test score: %.3f' % (\n",
    "svr.score(x_train,y_train),\n",
    "svr.score(x_test, y_test)))\n",
    "\n",
    "\n",
    "#fit model\n",
    "print_best_params(svr)\n",
    "#print(svr.best_estimator_.get_params())\n",
    "\n"
   ]
  },
  {
   "cell_type": "code",
   "execution_count": 24,
   "id": "273ea16e",
   "metadata": {},
   "outputs": [
    {
     "name": "stdout",
     "output_type": "stream",
     "text": [
      "Fitting 5 folds for each of 36 candidates, totalling 180 fits\n",
      "[CV 1/5] END max_depth=4, min_impurity_decrease=0, min_samples_leaf=9; total time=   0.0s\n",
      "[CV 2/5] END max_depth=4, min_impurity_decrease=0, min_samples_leaf=9; total time=   0.0s\n",
      "[CV 3/5] END max_depth=4, min_impurity_decrease=0, min_samples_leaf=9; total time=   0.0s\n",
      "[CV 4/5] END max_depth=4, min_impurity_decrease=0, min_samples_leaf=9; total time=   0.0s\n",
      "[CV 5/5] END max_depth=4, min_impurity_decrease=0, min_samples_leaf=9; total time=   0.0s\n",
      "[CV 1/5] END max_depth=4, min_impurity_decrease=0, min_samples_leaf=10; total time=   0.0s\n",
      "[CV 2/5] END max_depth=4, min_impurity_decrease=0, min_samples_leaf=10; total time=   0.0s\n",
      "[CV 3/5] END max_depth=4, min_impurity_decrease=0, min_samples_leaf=10; total time=   0.0s\n",
      "[CV 4/5] END max_depth=4, min_impurity_decrease=0, min_samples_leaf=10; total time=   0.0s\n",
      "[CV 5/5] END max_depth=4, min_impurity_decrease=0, min_samples_leaf=10; total time=   0.0s\n",
      "[CV 1/5] END max_depth=4, min_impurity_decrease=0, min_samples_leaf=11; total time=   0.0s\n",
      "[CV 2/5] END max_depth=4, min_impurity_decrease=0, min_samples_leaf=11; total time=   0.0s\n",
      "[CV 3/5] END max_depth=4, min_impurity_decrease=0, min_samples_leaf=11; total time=   0.0s\n",
      "[CV 4/5] END max_depth=4, min_impurity_decrease=0, min_samples_leaf=11; total time=   0.0s\n",
      "[CV 5/5] END max_depth=4, min_impurity_decrease=0, min_samples_leaf=11; total time=   0.0s\n",
      "[CV 1/5] END max_depth=4, min_impurity_decrease=0, min_samples_leaf=12; total time=   0.0s\n",
      "[CV 2/5] END max_depth=4, min_impurity_decrease=0, min_samples_leaf=12; total time=   0.0s\n",
      "[CV 3/5] END max_depth=4, min_impurity_decrease=0, min_samples_leaf=12; total time=   0.0s\n",
      "[CV 4/5] END max_depth=4, min_impurity_decrease=0, min_samples_leaf=12; total time=   0.0s\n",
      "[CV 5/5] END max_depth=4, min_impurity_decrease=0, min_samples_leaf=12; total time=   0.0s\n",
      "[CV 1/5] END max_depth=4, min_impurity_decrease=1, min_samples_leaf=9; total time=   0.0s\n",
      "[CV 2/5] END max_depth=4, min_impurity_decrease=1, min_samples_leaf=9; total time=   0.0s\n",
      "[CV 3/5] END max_depth=4, min_impurity_decrease=1, min_samples_leaf=9; total time=   0.0s\n",
      "[CV 4/5] END max_depth=4, min_impurity_decrease=1, min_samples_leaf=9; total time=   0.0s\n",
      "[CV 5/5] END max_depth=4, min_impurity_decrease=1, min_samples_leaf=9; total time=   0.0s\n",
      "[CV 1/5] END max_depth=4, min_impurity_decrease=1, min_samples_leaf=10; total time=   0.0s\n",
      "[CV 2/5] END max_depth=4, min_impurity_decrease=1, min_samples_leaf=10; total time=   0.0s\n",
      "[CV 3/5] END max_depth=4, min_impurity_decrease=1, min_samples_leaf=10; total time=   0.0s\n",
      "[CV 4/5] END max_depth=4, min_impurity_decrease=1, min_samples_leaf=10; total time=   0.0s\n",
      "[CV 5/5] END max_depth=4, min_impurity_decrease=1, min_samples_leaf=10; total time=   0.0s\n",
      "[CV 1/5] END max_depth=4, min_impurity_decrease=1, min_samples_leaf=11; total time=   0.0s\n",
      "[CV 2/5] END max_depth=4, min_impurity_decrease=1, min_samples_leaf=11; total time=   0.0s\n",
      "[CV 3/5] END max_depth=4, min_impurity_decrease=1, min_samples_leaf=11; total time=   0.0s\n",
      "[CV 4/5] END max_depth=4, min_impurity_decrease=1, min_samples_leaf=11; total time=   0.0s\n",
      "[CV 5/5] END max_depth=4, min_impurity_decrease=1, min_samples_leaf=11; total time=   0.0s\n",
      "[CV 1/5] END max_depth=4, min_impurity_decrease=1, min_samples_leaf=12; total time=   0.0s\n",
      "[CV 2/5] END max_depth=4, min_impurity_decrease=1, min_samples_leaf=12; total time=   0.0s\n",
      "[CV 3/5] END max_depth=4, min_impurity_decrease=1, min_samples_leaf=12; total time=   0.0s\n",
      "[CV 4/5] END max_depth=4, min_impurity_decrease=1, min_samples_leaf=12; total time=   0.0s\n",
      "[CV 5/5] END max_depth=4, min_impurity_decrease=1, min_samples_leaf=12; total time=   0.0s\n",
      "[CV 1/5] END max_depth=4, min_impurity_decrease=2, min_samples_leaf=9; total time=   0.0s\n",
      "[CV 2/5] END max_depth=4, min_impurity_decrease=2, min_samples_leaf=9; total time=   0.0s\n",
      "[CV 3/5] END max_depth=4, min_impurity_decrease=2, min_samples_leaf=9; total time=   0.0s\n",
      "[CV 4/5] END max_depth=4, min_impurity_decrease=2, min_samples_leaf=9; total time=   0.0s\n",
      "[CV 5/5] END max_depth=4, min_impurity_decrease=2, min_samples_leaf=9; total time=   0.0s\n",
      "[CV 1/5] END max_depth=4, min_impurity_decrease=2, min_samples_leaf=10; total time=   0.0s\n",
      "[CV 2/5] END max_depth=4, min_impurity_decrease=2, min_samples_leaf=10; total time=   0.0s\n",
      "[CV 3/5] END max_depth=4, min_impurity_decrease=2, min_samples_leaf=10; total time=   0.0s\n",
      "[CV 4/5] END max_depth=4, min_impurity_decrease=2, min_samples_leaf=10; total time=   0.0s\n",
      "[CV 5/5] END max_depth=4, min_impurity_decrease=2, min_samples_leaf=10; total time=   0.0s\n",
      "[CV 1/5] END max_depth=4, min_impurity_decrease=2, min_samples_leaf=11; total time=   0.0s\n",
      "[CV 2/5] END max_depth=4, min_impurity_decrease=2, min_samples_leaf=11; total time=   0.0s\n",
      "[CV 3/5] END max_depth=4, min_impurity_decrease=2, min_samples_leaf=11; total time=   0.0s\n",
      "[CV 4/5] END max_depth=4, min_impurity_decrease=2, min_samples_leaf=11; total time=   0.0s\n",
      "[CV 5/5] END max_depth=4, min_impurity_decrease=2, min_samples_leaf=11; total time=   0.0s\n",
      "[CV 1/5] END max_depth=4, min_impurity_decrease=2, min_samples_leaf=12; total time=   0.0s\n",
      "[CV 2/5] END max_depth=4, min_impurity_decrease=2, min_samples_leaf=12; total time=   0.0s\n",
      "[CV 3/5] END max_depth=4, min_impurity_decrease=2, min_samples_leaf=12; total time=   0.0s\n",
      "[CV 4/5] END max_depth=4, min_impurity_decrease=2, min_samples_leaf=12; total time=   0.0s\n",
      "[CV 5/5] END max_depth=4, min_impurity_decrease=2, min_samples_leaf=12; total time=   0.0s\n",
      "[CV 1/5] END max_depth=5, min_impurity_decrease=0, min_samples_leaf=9; total time=   0.0s\n",
      "[CV 2/5] END max_depth=5, min_impurity_decrease=0, min_samples_leaf=9; total time=   0.0s\n",
      "[CV 3/5] END max_depth=5, min_impurity_decrease=0, min_samples_leaf=9; total time=   0.0s\n",
      "[CV 4/5] END max_depth=5, min_impurity_decrease=0, min_samples_leaf=9; total time=   0.0s\n",
      "[CV 5/5] END max_depth=5, min_impurity_decrease=0, min_samples_leaf=9; total time=   0.0s\n",
      "[CV 1/5] END max_depth=5, min_impurity_decrease=0, min_samples_leaf=10; total time=   0.0s\n",
      "[CV 2/5] END max_depth=5, min_impurity_decrease=0, min_samples_leaf=10; total time=   0.0s\n",
      "[CV 3/5] END max_depth=5, min_impurity_decrease=0, min_samples_leaf=10; total time=   0.0s\n",
      "[CV 4/5] END max_depth=5, min_impurity_decrease=0, min_samples_leaf=10; total time=   0.0s\n",
      "[CV 5/5] END max_depth=5, min_impurity_decrease=0, min_samples_leaf=10; total time=   0.0s\n",
      "[CV 1/5] END max_depth=5, min_impurity_decrease=0, min_samples_leaf=11; total time=   0.0s\n",
      "[CV 2/5] END max_depth=5, min_impurity_decrease=0, min_samples_leaf=11; total time=   0.0s\n",
      "[CV 3/5] END max_depth=5, min_impurity_decrease=0, min_samples_leaf=11; total time=   0.0s\n",
      "[CV 4/5] END max_depth=5, min_impurity_decrease=0, min_samples_leaf=11; total time=   0.0s\n",
      "[CV 5/5] END max_depth=5, min_impurity_decrease=0, min_samples_leaf=11; total time=   0.0s\n",
      "[CV 1/5] END max_depth=5, min_impurity_decrease=0, min_samples_leaf=12; total time=   0.0s\n",
      "[CV 2/5] END max_depth=5, min_impurity_decrease=0, min_samples_leaf=12; total time=   0.0s\n",
      "[CV 3/5] END max_depth=5, min_impurity_decrease=0, min_samples_leaf=12; total time=   0.0s\n",
      "[CV 4/5] END max_depth=5, min_impurity_decrease=0, min_samples_leaf=12; total time=   0.0s\n",
      "[CV 5/5] END max_depth=5, min_impurity_decrease=0, min_samples_leaf=12; total time=   0.0s\n",
      "[CV 1/5] END max_depth=5, min_impurity_decrease=1, min_samples_leaf=9; total time=   0.0s\n",
      "[CV 2/5] END max_depth=5, min_impurity_decrease=1, min_samples_leaf=9; total time=   0.0s\n",
      "[CV 3/5] END max_depth=5, min_impurity_decrease=1, min_samples_leaf=9; total time=   0.0s\n",
      "[CV 4/5] END max_depth=5, min_impurity_decrease=1, min_samples_leaf=9; total time=   0.0s\n",
      "[CV 5/5] END max_depth=5, min_impurity_decrease=1, min_samples_leaf=9; total time=   0.0s\n",
      "[CV 1/5] END max_depth=5, min_impurity_decrease=1, min_samples_leaf=10; total time=   0.0s\n",
      "[CV 2/5] END max_depth=5, min_impurity_decrease=1, min_samples_leaf=10; total time=   0.0s\n",
      "[CV 3/5] END max_depth=5, min_impurity_decrease=1, min_samples_leaf=10; total time=   0.0s\n",
      "[CV 4/5] END max_depth=5, min_impurity_decrease=1, min_samples_leaf=10; total time=   0.0s\n",
      "[CV 5/5] END max_depth=5, min_impurity_decrease=1, min_samples_leaf=10; total time=   0.0s\n",
      "[CV 1/5] END max_depth=5, min_impurity_decrease=1, min_samples_leaf=11; total time=   0.0s\n",
      "[CV 2/5] END max_depth=5, min_impurity_decrease=1, min_samples_leaf=11; total time=   0.0s\n",
      "[CV 3/5] END max_depth=5, min_impurity_decrease=1, min_samples_leaf=11; total time=   0.0s\n",
      "[CV 4/5] END max_depth=5, min_impurity_decrease=1, min_samples_leaf=11; total time=   0.0s\n",
      "[CV 5/5] END max_depth=5, min_impurity_decrease=1, min_samples_leaf=11; total time=   0.0s\n",
      "[CV 1/5] END max_depth=5, min_impurity_decrease=1, min_samples_leaf=12; total time=   0.0s\n",
      "[CV 2/5] END max_depth=5, min_impurity_decrease=1, min_samples_leaf=12; total time=   0.0s\n",
      "[CV 3/5] END max_depth=5, min_impurity_decrease=1, min_samples_leaf=12; total time=   0.0s\n",
      "[CV 4/5] END max_depth=5, min_impurity_decrease=1, min_samples_leaf=12; total time=   0.0s\n",
      "[CV 5/5] END max_depth=5, min_impurity_decrease=1, min_samples_leaf=12; total time=   0.0s\n",
      "[CV 1/5] END max_depth=5, min_impurity_decrease=2, min_samples_leaf=9; total time=   0.0s\n",
      "[CV 2/5] END max_depth=5, min_impurity_decrease=2, min_samples_leaf=9; total time=   0.0s\n",
      "[CV 3/5] END max_depth=5, min_impurity_decrease=2, min_samples_leaf=9; total time=   0.0s\n",
      "[CV 4/5] END max_depth=5, min_impurity_decrease=2, min_samples_leaf=9; total time=   0.0s\n",
      "[CV 5/5] END max_depth=5, min_impurity_decrease=2, min_samples_leaf=9; total time=   0.0s\n",
      "[CV 1/5] END max_depth=5, min_impurity_decrease=2, min_samples_leaf=10; total time=   0.0s\n",
      "[CV 2/5] END max_depth=5, min_impurity_decrease=2, min_samples_leaf=10; total time=   0.0s\n",
      "[CV 3/5] END max_depth=5, min_impurity_decrease=2, min_samples_leaf=10; total time=   0.0s\n",
      "[CV 4/5] END max_depth=5, min_impurity_decrease=2, min_samples_leaf=10; total time=   0.0s\n",
      "[CV 5/5] END max_depth=5, min_impurity_decrease=2, min_samples_leaf=10; total time=   0.0s\n",
      "[CV 1/5] END max_depth=5, min_impurity_decrease=2, min_samples_leaf=11; total time=   0.0s\n",
      "[CV 2/5] END max_depth=5, min_impurity_decrease=2, min_samples_leaf=11; total time=   0.0s\n",
      "[CV 3/5] END max_depth=5, min_impurity_decrease=2, min_samples_leaf=11; total time=   0.0s\n",
      "[CV 4/5] END max_depth=5, min_impurity_decrease=2, min_samples_leaf=11; total time=   0.0s\n",
      "[CV 5/5] END max_depth=5, min_impurity_decrease=2, min_samples_leaf=11; total time=   0.0s\n",
      "[CV 1/5] END max_depth=5, min_impurity_decrease=2, min_samples_leaf=12; total time=   0.0s\n",
      "[CV 2/5] END max_depth=5, min_impurity_decrease=2, min_samples_leaf=12; total time=   0.0s\n",
      "[CV 3/5] END max_depth=5, min_impurity_decrease=2, min_samples_leaf=12; total time=   0.0s\n",
      "[CV 4/5] END max_depth=5, min_impurity_decrease=2, min_samples_leaf=12; total time=   0.0s\n",
      "[CV 5/5] END max_depth=5, min_impurity_decrease=2, min_samples_leaf=12; total time=   0.0s\n",
      "[CV 1/5] END max_depth=6, min_impurity_decrease=0, min_samples_leaf=9; total time=   0.0s\n",
      "[CV 2/5] END max_depth=6, min_impurity_decrease=0, min_samples_leaf=9; total time=   0.0s\n",
      "[CV 3/5] END max_depth=6, min_impurity_decrease=0, min_samples_leaf=9; total time=   0.0s\n",
      "[CV 4/5] END max_depth=6, min_impurity_decrease=0, min_samples_leaf=9; total time=   0.0s\n",
      "[CV 5/5] END max_depth=6, min_impurity_decrease=0, min_samples_leaf=9; total time=   0.0s\n",
      "[CV 1/5] END max_depth=6, min_impurity_decrease=0, min_samples_leaf=10; total time=   0.0s\n",
      "[CV 2/5] END max_depth=6, min_impurity_decrease=0, min_samples_leaf=10; total time=   0.0s\n",
      "[CV 3/5] END max_depth=6, min_impurity_decrease=0, min_samples_leaf=10; total time=   0.0s\n",
      "[CV 4/5] END max_depth=6, min_impurity_decrease=0, min_samples_leaf=10; total time=   0.0s\n",
      "[CV 5/5] END max_depth=6, min_impurity_decrease=0, min_samples_leaf=10; total time=   0.0s\n",
      "[CV 1/5] END max_depth=6, min_impurity_decrease=0, min_samples_leaf=11; total time=   0.0s\n",
      "[CV 2/5] END max_depth=6, min_impurity_decrease=0, min_samples_leaf=11; total time=   0.0s\n",
      "[CV 3/5] END max_depth=6, min_impurity_decrease=0, min_samples_leaf=11; total time=   0.0s\n",
      "[CV 4/5] END max_depth=6, min_impurity_decrease=0, min_samples_leaf=11; total time=   0.0s\n",
      "[CV 5/5] END max_depth=6, min_impurity_decrease=0, min_samples_leaf=11; total time=   0.0s\n",
      "[CV 1/5] END max_depth=6, min_impurity_decrease=0, min_samples_leaf=12; total time=   0.0s\n",
      "[CV 2/5] END max_depth=6, min_impurity_decrease=0, min_samples_leaf=12; total time=   0.0s\n",
      "[CV 3/5] END max_depth=6, min_impurity_decrease=0, min_samples_leaf=12; total time=   0.0s\n",
      "[CV 4/5] END max_depth=6, min_impurity_decrease=0, min_samples_leaf=12; total time=   0.0s\n",
      "[CV 5/5] END max_depth=6, min_impurity_decrease=0, min_samples_leaf=12; total time=   0.0s\n",
      "[CV 1/5] END max_depth=6, min_impurity_decrease=1, min_samples_leaf=9; total time=   0.0s\n",
      "[CV 2/5] END max_depth=6, min_impurity_decrease=1, min_samples_leaf=9; total time=   0.0s\n",
      "[CV 3/5] END max_depth=6, min_impurity_decrease=1, min_samples_leaf=9; total time=   0.0s\n",
      "[CV 4/5] END max_depth=6, min_impurity_decrease=1, min_samples_leaf=9; total time=   0.0s\n",
      "[CV 5/5] END max_depth=6, min_impurity_decrease=1, min_samples_leaf=9; total time=   0.0s\n",
      "[CV 1/5] END max_depth=6, min_impurity_decrease=1, min_samples_leaf=10; total time=   0.0s\n",
      "[CV 2/5] END max_depth=6, min_impurity_decrease=1, min_samples_leaf=10; total time=   0.0s\n",
      "[CV 3/5] END max_depth=6, min_impurity_decrease=1, min_samples_leaf=10; total time=   0.0s\n",
      "[CV 4/5] END max_depth=6, min_impurity_decrease=1, min_samples_leaf=10; total time=   0.0s\n",
      "[CV 5/5] END max_depth=6, min_impurity_decrease=1, min_samples_leaf=10; total time=   0.0s\n",
      "[CV 1/5] END max_depth=6, min_impurity_decrease=1, min_samples_leaf=11; total time=   0.0s\n",
      "[CV 2/5] END max_depth=6, min_impurity_decrease=1, min_samples_leaf=11; total time=   0.0s\n",
      "[CV 3/5] END max_depth=6, min_impurity_decrease=1, min_samples_leaf=11; total time=   0.0s\n",
      "[CV 4/5] END max_depth=6, min_impurity_decrease=1, min_samples_leaf=11; total time=   0.0s\n",
      "[CV 5/5] END max_depth=6, min_impurity_decrease=1, min_samples_leaf=11; total time=   0.0s\n",
      "[CV 1/5] END max_depth=6, min_impurity_decrease=1, min_samples_leaf=12; total time=   0.0s\n",
      "[CV 2/5] END max_depth=6, min_impurity_decrease=1, min_samples_leaf=12; total time=   0.0s\n",
      "[CV 3/5] END max_depth=6, min_impurity_decrease=1, min_samples_leaf=12; total time=   0.0s\n",
      "[CV 4/5] END max_depth=6, min_impurity_decrease=1, min_samples_leaf=12; total time=   0.0s\n",
      "[CV 5/5] END max_depth=6, min_impurity_decrease=1, min_samples_leaf=12; total time=   0.0s\n",
      "[CV 1/5] END max_depth=6, min_impurity_decrease=2, min_samples_leaf=9; total time=   0.0s\n",
      "[CV 2/5] END max_depth=6, min_impurity_decrease=2, min_samples_leaf=9; total time=   0.0s\n",
      "[CV 3/5] END max_depth=6, min_impurity_decrease=2, min_samples_leaf=9; total time=   0.0s\n",
      "[CV 4/5] END max_depth=6, min_impurity_decrease=2, min_samples_leaf=9; total time=   0.0s\n",
      "[CV 5/5] END max_depth=6, min_impurity_decrease=2, min_samples_leaf=9; total time=   0.0s\n",
      "[CV 1/5] END max_depth=6, min_impurity_decrease=2, min_samples_leaf=10; total time=   0.0s\n",
      "[CV 2/5] END max_depth=6, min_impurity_decrease=2, min_samples_leaf=10; total time=   0.0s\n",
      "[CV 3/5] END max_depth=6, min_impurity_decrease=2, min_samples_leaf=10; total time=   0.0s\n",
      "[CV 4/5] END max_depth=6, min_impurity_decrease=2, min_samples_leaf=10; total time=   0.0s\n",
      "[CV 5/5] END max_depth=6, min_impurity_decrease=2, min_samples_leaf=10; total time=   0.0s\n",
      "[CV 1/5] END max_depth=6, min_impurity_decrease=2, min_samples_leaf=11; total time=   0.0s\n",
      "[CV 2/5] END max_depth=6, min_impurity_decrease=2, min_samples_leaf=11; total time=   0.0s\n",
      "[CV 3/5] END max_depth=6, min_impurity_decrease=2, min_samples_leaf=11; total time=   0.0s\n",
      "[CV 4/5] END max_depth=6, min_impurity_decrease=2, min_samples_leaf=11; total time=   0.0s\n",
      "[CV 5/5] END max_depth=6, min_impurity_decrease=2, min_samples_leaf=11; total time=   0.0s\n",
      "[CV 1/5] END max_depth=6, min_impurity_decrease=2, min_samples_leaf=12; total time=   0.0s\n",
      "[CV 2/5] END max_depth=6, min_impurity_decrease=2, min_samples_leaf=12; total time=   0.0s\n",
      "[CV 3/5] END max_depth=6, min_impurity_decrease=2, min_samples_leaf=12; total time=   0.0s\n",
      "[CV 4/5] END max_depth=6, min_impurity_decrease=2, min_samples_leaf=12; total time=   0.0s\n",
      "[CV 5/5] END max_depth=6, min_impurity_decrease=2, min_samples_leaf=12; total time=   0.0s\n"
     ]
    },
    {
     "ename": "NameError",
     "evalue": "name 'X_train' is not defined",
     "output_type": "error",
     "traceback": [
      "\u001b[1;31m---------------------------------------------------------------------------\u001b[0m",
      "\u001b[1;31mNameError\u001b[0m                                 Traceback (most recent call last)",
      "\u001b[1;32m<ipython-input-24-976795aa4296>\u001b[0m in \u001b[0;36m<module>\u001b[1;34m\u001b[0m\n\u001b[0;32m     14\u001b[0m \u001b[1;31m#print score\u001b[0m\u001b[1;33m\u001b[0m\u001b[1;33m\u001b[0m\u001b[1;33m\u001b[0m\u001b[0m\n\u001b[0;32m     15\u001b[0m print('\\n\\ndt train score %.3f, dt test score: %.3f' % (\n\u001b[1;32m---> 16\u001b[1;33m \u001b[0mdt\u001b[0m\u001b[1;33m.\u001b[0m\u001b[0mscore\u001b[0m\u001b[1;33m(\u001b[0m\u001b[0mX_train\u001b[0m\u001b[1;33m,\u001b[0m\u001b[0my_train\u001b[0m\u001b[1;33m)\u001b[0m\u001b[1;33m,\u001b[0m\u001b[1;33m\u001b[0m\u001b[1;33m\u001b[0m\u001b[0m\n\u001b[0m\u001b[0;32m     17\u001b[0m dt.score(X_test, y_test)))\n\u001b[0;32m     18\u001b[0m \u001b[0mprint_best_params\u001b[0m\u001b[1;33m(\u001b[0m\u001b[0mdt\u001b[0m\u001b[1;33m)\u001b[0m\u001b[1;33m\u001b[0m\u001b[1;33m\u001b[0m\u001b[0m\n",
      "\u001b[1;31mNameError\u001b[0m: name 'X_train' is not defined"
     ]
    }
   ],
   "source": [
    "#parameter grid for decision tree\n",
    "\n",
    "param_grid_dt = dict(min_samples_leaf=np.arange(9, 13, 1, int), \n",
    "                  max_depth = np.arange(4,7,1, int),\n",
    "                  min_impurity_decrease = [0, 1, 2],\n",
    "                 )\n",
    "\n",
    "dt = GridSearchCV(DecisionTreeRegressor(random_state=0), param_grid=param_grid_dt, cv=5,  verbose=3)\n",
    "\n",
    "#fit model\n",
    "dt = dt.fit(x_train,y_train.values.ravel())\n",
    "\n",
    "\n",
    "#print score\n",
    "print('\\n\\ndt train score %.3f, dt test score: %.3f' % (\n",
    "dt.score(X_train,y_train),\n",
    "dt.score(X_test, y_test)))\n",
    "print_best_params(dt)"
   ]
  },
  {
   "cell_type": "code",
   "execution_count": null,
   "id": "3716b265",
   "metadata": {},
   "outputs": [],
   "source": []
  }
 ],
 "metadata": {
  "kernelspec": {
   "display_name": "Python 3",
   "language": "python",
   "name": "python3"
  },
  "language_info": {
   "codemirror_mode": {
    "name": "ipython",
    "version": 3
   },
   "file_extension": ".py",
   "mimetype": "text/x-python",
   "name": "python",
   "nbconvert_exporter": "python",
   "pygments_lexer": "ipython3",
   "version": "3.8.8"
  }
 },
 "nbformat": 4,
 "nbformat_minor": 5
}
